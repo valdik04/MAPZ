{
 "cells": [
  {
   "cell_type": "code",
   "execution_count": 294,
   "id": "2db4c59a",
   "metadata": {},
   "outputs": [],
   "source": [
    "import pandas as pd\n",
    "import matplotlib.pyplot as plt\n",
    "import seaborn as sns\n",
    "import numpy as np\n",
    "from scipy.stats import norm\n",
    "import math\n",
    "import warnings\n",
    "warnings.filterwarnings('ignore')"
   ]
  },
  {
   "cell_type": "code",
   "execution_count": 295,
   "id": "b761761b",
   "metadata": {},
   "outputs": [],
   "source": [
    "df = pd.read_csv('df_cian.csv')"
   ]
  },
  {
   "cell_type": "code",
   "execution_count": 296,
   "id": "73cc5097",
   "metadata": {},
   "outputs": [
    {
     "data": {
      "text/html": [
       "<div>\n",
       "<style scoped>\n",
       "    .dataframe tbody tr th:only-of-type {\n",
       "        vertical-align: middle;\n",
       "    }\n",
       "\n",
       "    .dataframe tbody tr th {\n",
       "        vertical-align: top;\n",
       "    }\n",
       "\n",
       "    .dataframe thead th {\n",
       "        text-align: right;\n",
       "    }\n",
       "</style>\n",
       "<table border=\"1\" class=\"dataframe\">\n",
       "  <thead>\n",
       "    <tr style=\"text-align: right;\">\n",
       "      <th></th>\n",
       "      <th>metro</th>\n",
       "      <th>price</th>\n",
       "      <th>rooms</th>\n",
       "      <th>floor</th>\n",
       "      <th>floors</th>\n",
       "      <th>square</th>\n",
       "      <th>turned</th>\n",
       "    </tr>\n",
       "  </thead>\n",
       "  <tbody>\n",
       "    <tr>\n",
       "      <th>0</th>\n",
       "      <td>0</td>\n",
       "      <td>14629999</td>\n",
       "      <td>2</td>\n",
       "      <td>6</td>\n",
       "      <td>19</td>\n",
       "      <td>61.31</td>\n",
       "      <td>0</td>\n",
       "    </tr>\n",
       "    <tr>\n",
       "      <th>1</th>\n",
       "      <td>0</td>\n",
       "      <td>9799999</td>\n",
       "      <td>1</td>\n",
       "      <td>2</td>\n",
       "      <td>19</td>\n",
       "      <td>39.35</td>\n",
       "      <td>0</td>\n",
       "    </tr>\n",
       "    <tr>\n",
       "      <th>2</th>\n",
       "      <td>1</td>\n",
       "      <td>15441588</td>\n",
       "      <td>2</td>\n",
       "      <td>15</td>\n",
       "      <td>18</td>\n",
       "      <td>60.60</td>\n",
       "      <td>1</td>\n",
       "    </tr>\n",
       "    <tr>\n",
       "      <th>3</th>\n",
       "      <td>1</td>\n",
       "      <td>9350000</td>\n",
       "      <td>1</td>\n",
       "      <td>2</td>\n",
       "      <td>18</td>\n",
       "      <td>37.40</td>\n",
       "      <td>1</td>\n",
       "    </tr>\n",
       "    <tr>\n",
       "      <th>4</th>\n",
       "      <td>0</td>\n",
       "      <td>10239999</td>\n",
       "      <td>1</td>\n",
       "      <td>2</td>\n",
       "      <td>18</td>\n",
       "      <td>37.00</td>\n",
       "      <td>0</td>\n",
       "    </tr>\n",
       "    <tr>\n",
       "      <th>...</th>\n",
       "      <td>...</td>\n",
       "      <td>...</td>\n",
       "      <td>...</td>\n",
       "      <td>...</td>\n",
       "      <td>...</td>\n",
       "      <td>...</td>\n",
       "      <td>...</td>\n",
       "    </tr>\n",
       "    <tr>\n",
       "      <th>7915</th>\n",
       "      <td>0</td>\n",
       "      <td>5859341</td>\n",
       "      <td>1</td>\n",
       "      <td>2</td>\n",
       "      <td>12</td>\n",
       "      <td>35.00</td>\n",
       "      <td>0</td>\n",
       "    </tr>\n",
       "    <tr>\n",
       "      <th>7916</th>\n",
       "      <td>1</td>\n",
       "      <td>23324180</td>\n",
       "      <td>1</td>\n",
       "      <td>6</td>\n",
       "      <td>9</td>\n",
       "      <td>54.30</td>\n",
       "      <td>1</td>\n",
       "    </tr>\n",
       "    <tr>\n",
       "      <th>7917</th>\n",
       "      <td>0</td>\n",
       "      <td>8779520</td>\n",
       "      <td>1</td>\n",
       "      <td>10</td>\n",
       "      <td>13</td>\n",
       "      <td>37.35</td>\n",
       "      <td>1</td>\n",
       "    </tr>\n",
       "    <tr>\n",
       "      <th>7918</th>\n",
       "      <td>0</td>\n",
       "      <td>6449160</td>\n",
       "      <td>1</td>\n",
       "      <td>1</td>\n",
       "      <td>13</td>\n",
       "      <td>35.03</td>\n",
       "      <td>0</td>\n",
       "    </tr>\n",
       "    <tr>\n",
       "      <th>7919</th>\n",
       "      <td>1</td>\n",
       "      <td>15156000</td>\n",
       "      <td>1</td>\n",
       "      <td>8</td>\n",
       "      <td>8</td>\n",
       "      <td>42.10</td>\n",
       "      <td>1</td>\n",
       "    </tr>\n",
       "  </tbody>\n",
       "</table>\n",
       "<p>7920 rows × 7 columns</p>\n",
       "</div>"
      ],
      "text/plain": [
       "      metro     price  rooms  floor  floors  square  turned\n",
       "0         0  14629999      2      6      19   61.31       0\n",
       "1         0   9799999      1      2      19   39.35       0\n",
       "2         1  15441588      2     15      18   60.60       1\n",
       "3         1   9350000      1      2      18   37.40       1\n",
       "4         0  10239999      1      2      18   37.00       0\n",
       "...     ...       ...    ...    ...     ...     ...     ...\n",
       "7915      0   5859341      1      2      12   35.00       0\n",
       "7916      1  23324180      1      6       9   54.30       1\n",
       "7917      0   8779520      1     10      13   37.35       1\n",
       "7918      0   6449160      1      1      13   35.03       0\n",
       "7919      1  15156000      1      8       8   42.10       1\n",
       "\n",
       "[7920 rows x 7 columns]"
      ]
     },
     "execution_count": 296,
     "metadata": {},
     "output_type": "execute_result"
    }
   ],
   "source": [
    "df"
   ]
  },
  {
   "cell_type": "code",
   "execution_count": 235,
   "id": "06f58d72",
   "metadata": {},
   "outputs": [
    {
     "data": {
      "text/plain": [
       "<AxesSubplot: >"
      ]
     },
     "execution_count": 235,
     "metadata": {},
     "output_type": "execute_result"
    },
    {
     "data": {
      "image/png": "[encoded data removed]",
      "text/plain": [
       "<Figure size 640x480 with 2 Axes>"
      ]
     },
     "metadata": {},
     "output_type": "display_data"
    }
   ],
   "source": [
    "sns.heatmap(df.corr())"
   ]
  },
  {
   "cell_type": "code",
   "execution_count": 236,
   "id": "54fa6f8e",
   "metadata": {},
   "outputs": [
    {
     "data": {
      "text/plain": [
       "array([[<AxesSubplot: title={'center': 'metro'}>,\n",
       "        <AxesSubplot: title={'center': 'price'}>,\n",
       "        <AxesSubplot: title={'center': 'rooms'}>],\n",
       "       [<AxesSubplot: title={'center': 'floor'}>,\n",
       "        <AxesSubplot: title={'center': 'floors'}>,\n",
       "        <AxesSubplot: title={'center': 'square'}>],\n",
       "       [<AxesSubplot: title={'center': 'turned'}>, <AxesSubplot: >,\n",
       "        <AxesSubplot: >]], dtype=object)"
      ]
     },
     "execution_count": 236,
     "metadata": {},
     "output_type": "execute_result"
    },
    {
     "data": {
      "image/png": "[encoded data removed]",
      "text/plain": [
       "<Figure size 640x480 with 9 Axes>"
      ]
     },
     "metadata": {},
     "output_type": "display_data"
    }
   ],
   "source": [
    "df.hist()"
   ]
  },
  {
   "cell_type": "code",
   "execution_count": 237,
   "id": "688e5ca8",
   "metadata": {},
   "outputs": [
    {
     "data": {
      "text/plain": [
       "24"
      ]
     },
     "execution_count": 237,
     "metadata": {},
     "output_type": "execute_result"
    }
   ],
   "source": [
    "df.floor.max()"
   ]
  },
  {
   "cell_type": "code",
   "execution_count": 238,
   "id": "9d14f65a",
   "metadata": {},
   "outputs": [
    {
     "data": {
      "text/plain": [
       "1"
      ]
     },
     "execution_count": 238,
     "metadata": {},
     "output_type": "execute_result"
    }
   ],
   "source": [
    "df.floor.min()"
   ]
  },
  {
   "cell_type": "code",
   "execution_count": 239,
   "id": "a771befe",
   "metadata": {},
   "outputs": [
    {
     "data": {
      "text/plain": [
       "65897100"
      ]
     },
     "execution_count": 239,
     "metadata": {},
     "output_type": "execute_result"
    }
   ],
   "source": [
    "df.price.max()"
   ]
  },
  {
   "cell_type": "code",
   "execution_count": 240,
   "id": "df46296b",
   "metadata": {},
   "outputs": [
    {
     "data": {
      "text/plain": [
       "2944500"
      ]
     },
     "execution_count": 240,
     "metadata": {},
     "output_type": "execute_result"
    }
   ],
   "source": [
    "df.price.min()"
   ]
  },
  {
   "cell_type": "code",
   "execution_count": 241,
   "id": "7d591864",
   "metadata": {},
   "outputs": [
    {
     "data": {
      "text/plain": [
       "14575500.0"
      ]
     },
     "execution_count": 241,
     "metadata": {},
     "output_type": "execute_result"
    }
   ],
   "source": [
    "df.price.median()"
   ]
  },
  {
   "cell_type": "code",
   "execution_count": 242,
   "id": "00505079",
   "metadata": {},
   "outputs": [
    {
     "data": {
      "text/plain": [
       "177.0"
      ]
     },
     "execution_count": 242,
     "metadata": {},
     "output_type": "execute_result"
    }
   ],
   "source": [
    "df.square.max()"
   ]
  },
  {
   "cell_type": "code",
   "execution_count": 243,
   "id": "769e9465",
   "metadata": {},
   "outputs": [
    {
     "data": {
      "text/plain": [
       "19.63"
      ]
     },
     "execution_count": 243,
     "metadata": {},
     "output_type": "execute_result"
    }
   ],
   "source": [
    "df.square.min()"
   ]
  },
  {
   "cell_type": "code",
   "execution_count": 244,
   "id": "d35a7b37",
   "metadata": {},
   "outputs": [],
   "source": [
    "df['floor_per'] = df['floor']/df['floors']"
   ]
  },
  {
   "cell_type": "code",
   "execution_count": 245,
   "id": "31c8153e",
   "metadata": {},
   "outputs": [],
   "source": [
    "df['price_for_square'] = df['price']/df['square']"
   ]
  },
  {
   "cell_type": "code",
   "execution_count": 246,
   "id": "5b025cf1",
   "metadata": {},
   "outputs": [
    {
     "data": {
      "text/plain": [
       "<AxesSubplot: >"
      ]
     },
     "execution_count": 246,
     "metadata": {},
     "output_type": "execute_result"
    },
    {
     "data": {
      "image/png": "[encoded data removed]",
      "text/plain": [
       "<Figure size 640x480 with 1 Axes>"
      ]
     },
     "metadata": {},
     "output_type": "display_data"
    }
   ],
   "source": [
    "sns.boxplot(df['price'])"
   ]
  },
  {
   "cell_type": "code",
   "execution_count": 247,
   "id": "e1b8edfc",
   "metadata": {},
   "outputs": [],
   "source": [
    "df = df[df['price'] < df['price'].quantile(0.95)]"
   ]
  },
  {
   "cell_type": "code",
   "execution_count": 248,
   "id": "246c5704",
   "metadata": {},
   "outputs": [
    {
     "data": {
      "text/plain": [
       "<AxesSubplot: >"
      ]
     },
     "execution_count": 248,
     "metadata": {},
     "output_type": "execute_result"
    },
    {
     "data": {
      "image/png": "[encoded data removed]",
      "text/plain": [
       "<Figure size 640x480 with 1 Axes>"
      ]
     },
     "metadata": {},
     "output_type": "display_data"
    }
   ],
   "source": [
    "sns.boxplot(df['price'])"
   ]
  },
  {
   "cell_type": "code",
   "execution_count": 249,
   "id": "7727b3a8",
   "metadata": {},
   "outputs": [
    {
     "data": {
      "text/plain": [
       "<AxesSubplot: >"
      ]
     },
     "execution_count": 249,
     "metadata": {},
     "output_type": "execute_result"
    },
    {
     "data": {
      "image/png": "[encoded data removed]",
      "text/plain": [
       "<Figure size 640x480 with 1 Axes>"
      ]
     },
     "metadata": {},
     "output_type": "display_data"
    }
   ],
   "source": [
    "sns.boxplot(df['square'])"
   ]
  },
  {
   "cell_type": "code",
   "execution_count": 250,
   "id": "d8d18f3f",
   "metadata": {},
   "outputs": [],
   "source": [
    "df = df[df['square'] < df['square'].quantile(0.95)]"
   ]
  },
  {
   "cell_type": "code",
   "execution_count": 251,
   "id": "a6c9a391",
   "metadata": {},
   "outputs": [
    {
     "data": {
      "text/plain": [
       "<AxesSubplot: >"
      ]
     },
     "execution_count": 251,
     "metadata": {},
     "output_type": "execute_result"
    },
    {
     "data": {
      "image/png": "[encoded data removed]",
      "text/plain": [
       "<Figure size 640x480 with 1 Axes>"
      ]
     },
     "metadata": {},
     "output_type": "display_data"
    }
   ],
   "source": [
    "sns.boxplot(df['square'])"
   ]
  },
  {
   "cell_type": "markdown",
   "id": "3abf92cf",
   "metadata": {},
   "source": [
    "Цена явно зависит от квадратных метров"
   ]
  },
  {
   "cell_type": "code",
   "execution_count": 252,
   "id": "4589e4fd",
   "metadata": {},
   "outputs": [
    {
     "data": {
      "text/plain": [
       "<AxesSubplot: xlabel='square', ylabel='price'>"
      ]
     },
     "execution_count": 252,
     "metadata": {},
     "output_type": "execute_result"
    },
    {
     "data": {
      "image/png": "[encoded data removed]",
      "text/plain": [
       "<Figure size 640x480 with 1 Axes>"
      ]
     },
     "metadata": {},
     "output_type": "display_data"
    }
   ],
   "source": [
    "sns.scatterplot(data=df, x ='square', y='price')"
   ]
  },
  {
   "cell_type": "code",
   "execution_count": 253,
   "id": "4910d58e",
   "metadata": {},
   "outputs": [],
   "source": [
    "df_for_pie = df.groupby('rooms', as_index=0).turned.mean()"
   ]
  },
  {
   "cell_type": "markdown",
   "id": "11459e26",
   "metadata": {},
   "source": [
    "Зависимость сдачи квартиры от количества комнат"
   ]
  },
  {
   "cell_type": "code",
   "execution_count": 254,
   "id": "7452a89e",
   "metadata": {},
   "outputs": [
    {
     "data": {
      "image/png": "[encoded data removed]",
      "text/plain": [
       "<Figure size 640x480 with 1 Axes>"
      ]
     },
     "metadata": {},
     "output_type": "display_data"
    }
   ],
   "source": [
    "plt.pie(df_for_pie['turned'], labels=df_for_pie['rooms'].apply(lambda x: str(x)+' комната(ы)'), autopct='%.0f%%')\n",
    "plt.show()"
   ]
  },
  {
   "cell_type": "code",
   "execution_count": 255,
   "id": "49f25804",
   "metadata": {},
   "outputs": [],
   "source": [
    "import pingouin as pg"
   ]
  },
  {
   "cell_type": "code",
   "execution_count": 256,
   "id": "6a444f01",
   "metadata": {},
   "outputs": [],
   "source": [
    "expected, observed, stats = pg.chi2_independence(df, x='rooms',\n",
    "                                                 y='turned')"
   ]
  },
  {
   "cell_type": "code",
   "execution_count": 257,
   "id": "88dadf55",
   "metadata": {},
   "outputs": [
    {
     "data": {
      "text/html": [
       "<div>\n",
       "<style scoped>\n",
       "    .dataframe tbody tr th:only-of-type {\n",
       "        vertical-align: middle;\n",
       "    }\n",
       "\n",
       "    .dataframe tbody tr th {\n",
       "        vertical-align: top;\n",
       "    }\n",
       "\n",
       "    .dataframe thead th {\n",
       "        text-align: right;\n",
       "    }\n",
       "</style>\n",
       "<table border=\"1\" class=\"dataframe\">\n",
       "  <thead>\n",
       "    <tr style=\"text-align: right;\">\n",
       "      <th></th>\n",
       "      <th>test</th>\n",
       "      <th>lambda</th>\n",
       "      <th>chi2</th>\n",
       "      <th>dof</th>\n",
       "      <th>pval</th>\n",
       "      <th>cramer</th>\n",
       "      <th>power</th>\n",
       "    </tr>\n",
       "  </thead>\n",
       "  <tbody>\n",
       "    <tr>\n",
       "      <th>0</th>\n",
       "      <td>pearson</td>\n",
       "      <td>1.000000</td>\n",
       "      <td>177.873463</td>\n",
       "      <td>1.0</td>\n",
       "      <td>1.411707e-40</td>\n",
       "      <td>0.162092</td>\n",
       "      <td>1.0</td>\n",
       "    </tr>\n",
       "    <tr>\n",
       "      <th>1</th>\n",
       "      <td>cressie-read</td>\n",
       "      <td>0.666667</td>\n",
       "      <td>179.692380</td>\n",
       "      <td>1.0</td>\n",
       "      <td>5.657004e-41</td>\n",
       "      <td>0.162919</td>\n",
       "      <td>1.0</td>\n",
       "    </tr>\n",
       "    <tr>\n",
       "      <th>2</th>\n",
       "      <td>log-likelihood</td>\n",
       "      <td>0.000000</td>\n",
       "      <td>184.282811</td>\n",
       "      <td>1.0</td>\n",
       "      <td>5.628184e-42</td>\n",
       "      <td>0.164986</td>\n",
       "      <td>1.0</td>\n",
       "    </tr>\n",
       "    <tr>\n",
       "      <th>3</th>\n",
       "      <td>freeman-tukey</td>\n",
       "      <td>-0.500000</td>\n",
       "      <td>188.637208</td>\n",
       "      <td>1.0</td>\n",
       "      <td>6.306736e-43</td>\n",
       "      <td>0.166924</td>\n",
       "      <td>1.0</td>\n",
       "    </tr>\n",
       "    <tr>\n",
       "      <th>4</th>\n",
       "      <td>mod-log-likelihood</td>\n",
       "      <td>-1.000000</td>\n",
       "      <td>193.860926</td>\n",
       "      <td>1.0</td>\n",
       "      <td>4.566860e-44</td>\n",
       "      <td>0.169220</td>\n",
       "      <td>1.0</td>\n",
       "    </tr>\n",
       "    <tr>\n",
       "      <th>5</th>\n",
       "      <td>neyman</td>\n",
       "      <td>-2.000000</td>\n",
       "      <td>207.310718</td>\n",
       "      <td>1.0</td>\n",
       "      <td>5.304061e-47</td>\n",
       "      <td>0.174991</td>\n",
       "      <td>1.0</td>\n",
       "    </tr>\n",
       "  </tbody>\n",
       "</table>\n",
       "</div>"
      ],
      "text/plain": [
       "                 test    lambda        chi2  dof          pval    cramer  \\\n",
       "0             pearson  1.000000  177.873463  1.0  1.411707e-40  0.162092   \n",
       "1        cressie-read  0.666667  179.692380  1.0  5.657004e-41  0.162919   \n",
       "2      log-likelihood  0.000000  184.282811  1.0  5.628184e-42  0.164986   \n",
       "3       freeman-tukey -0.500000  188.637208  1.0  6.306736e-43  0.166924   \n",
       "4  mod-log-likelihood -1.000000  193.860926  1.0  4.566860e-44  0.169220   \n",
       "5              neyman -2.000000  207.310718  1.0  5.304061e-47  0.174991   \n",
       "\n",
       "   power  \n",
       "0    1.0  \n",
       "1    1.0  \n",
       "2    1.0  \n",
       "3    1.0  \n",
       "4    1.0  \n",
       "5    1.0  "
      ]
     },
     "execution_count": 257,
     "metadata": {},
     "output_type": "execute_result"
    }
   ],
   "source": [
    "stats"
   ]
  },
  {
   "cell_type": "markdown",
   "id": "b52e8bd1",
   "metadata": {},
   "source": [
    "Однокомнатные сдают чаще чем двухкомнатные"
   ]
  },
  {
   "cell_type": "code",
   "execution_count": 258,
   "id": "a00e48e0",
   "metadata": {},
   "outputs": [
    {
     "data": {
      "text/plain": [
       "<AxesSubplot: xlabel='metro', ylabel='price_for_square'>"
      ]
     },
     "execution_count": 258,
     "metadata": {},
     "output_type": "execute_result"
    },
    {
     "data": {
      "image/png": "[encoded data removed]",
      "text/plain": [
       "<Figure size 640x480 with 1 Axes>"
      ]
     },
     "metadata": {},
     "output_type": "display_data"
    }
   ],
   "source": [
    "sns.boxplot(data=df, x='metro', y='price_for_square')"
   ]
  },
  {
   "cell_type": "markdown",
   "id": "e514fe9f",
   "metadata": {},
   "source": [
    "Наличие метро в шаговой доступности влияет на цену за квадратный метр"
   ]
  },
  {
   "cell_type": "code",
   "execution_count": 259,
   "id": "a22dc13a",
   "metadata": {},
   "outputs": [],
   "source": [
    "df_1 = df[df['metro'] == 1]\n",
    "df_0 = df[df['metro'] == 0]"
   ]
  },
  {
   "cell_type": "code",
   "execution_count": 260,
   "id": "1b056f57",
   "metadata": {},
   "outputs": [
    {
     "data": {
      "text/plain": [
       "5.071507760532151"
      ]
     },
     "execution_count": 260,
     "metadata": {},
     "output_type": "execute_result"
    }
   ],
   "source": [
    "df_1.floor.mean()"
   ]
  },
  {
   "cell_type": "code",
   "execution_count": 261,
   "id": "d2883548",
   "metadata": {},
   "outputs": [
    {
     "data": {
      "text/plain": [
       "5.99146110056926"
      ]
     },
     "execution_count": 261,
     "metadata": {},
     "output_type": "execute_result"
    }
   ],
   "source": [
    "df_0.floor.mean()"
   ]
  },
  {
   "cell_type": "code",
   "execution_count": 262,
   "id": "e71132e5",
   "metadata": {},
   "outputs": [],
   "source": [
    "def get_bootstrap(\n",
    "    data_column_1,  \n",
    "    data_column_2,  \n",
    "    boot_it=2000,  \n",
    "    statistic=np.mean,  \n",
    "    bootstrap_conf_level=0.95  \n",
    "):\n",
    "    boot_data = []\n",
    "    for i in range(boot_it):  \n",
    "        samples_1 = data_column_1.sample(\n",
    "            len(data_column_1),\n",
    "            replace=True  \n",
    "        ).values\n",
    "\n",
    "        samples_2 = data_column_2.sample(\n",
    "            len(data_column_1),\n",
    "            replace=True\n",
    "        ).values\n",
    "\n",
    "        boot_data.append(statistic(samples_1)-statistic(samples_2))  \n",
    "\n",
    "    pd_boot_data = pd.DataFrame(boot_data)\n",
    "\n",
    "    left_quant = (1 - bootstrap_conf_level)/2\n",
    "    right_quant = 1 - (1 - bootstrap_conf_level) / 2\n",
    "    quants = pd_boot_data.quantile([left_quant, right_quant])\n",
    "\n",
    "    p_1 = norm.cdf(\n",
    "        x=0,\n",
    "        loc=np.mean(boot_data),\n",
    "        scale=np.std(boot_data)\n",
    "    )\n",
    "    p_2 = norm.cdf(\n",
    "        x=0,\n",
    "        loc=-np.mean(boot_data),\n",
    "        scale=np.std(boot_data)\n",
    "    )\n",
    "    p_value = min(p_1, p_2) * 2\n",
    "\n",
    "    _, _, bars = plt.hist(pd_boot_data[0], bins=50)\n",
    "    for bar in bars:\n",
    "        if bar.get_x() <= quants.iloc[0][0] or bar.get_x() >= quants.iloc[1][0]:\n",
    "            bar.set_facecolor('red')\n",
    "        else:\n",
    "            bar.set_facecolor('grey')\n",
    "            bar.set_edgecolor('black')\n",
    "    \n",
    "    plt.style.use('ggplot')\n",
    "    plt.vlines(quants, ymin=0, ymax=50, linestyle='--')\n",
    "    plt.xlabel('boot_data')\n",
    "    plt.ylabel('frequency')\n",
    "    plt.title(\"Histogram of boot_data\")\n",
    "    plt.show()\n",
    "\n",
    "    return p_value"
   ]
  },
  {
   "cell_type": "code",
   "execution_count": 263,
   "id": "101b64f9",
   "metadata": {},
   "outputs": [
    {
     "data": {
      "image/png": "[encoded data removed]",
      "text/plain": [
       "<Figure size 640x480 with 1 Axes>"
      ]
     },
     "metadata": {},
     "output_type": "display_data"
    },
    {
     "data": {
      "text/plain": [
       "0.0"
      ]
     },
     "execution_count": 263,
     "metadata": {},
     "output_type": "execute_result"
    }
   ],
   "source": [
    "get_bootstrap(df_1['price_for_square'], df_0['price_for_square'])"
   ]
  },
  {
   "cell_type": "markdown",
   "id": "1481eb58",
   "metadata": {},
   "source": [
    "Наличие метро в шаговой доступности определенно связано с ценой за квадратный метр"
   ]
  },
  {
   "cell_type": "code",
   "execution_count": null,
   "id": "0eb97763",
   "metadata": {},
   "outputs": [],
   "source": []
  },
  {
   "cell_type": "code",
   "execution_count": 264,
   "id": "b266ece6",
   "metadata": {},
   "outputs": [
    {
     "data": {
      "text/html": [
       "<div>\n",
       "<style scoped>\n",
       "    .dataframe tbody tr th:only-of-type {\n",
       "        vertical-align: middle;\n",
       "    }\n",
       "\n",
       "    .dataframe tbody tr th {\n",
       "        vertical-align: top;\n",
       "    }\n",
       "\n",
       "    .dataframe thead th {\n",
       "        text-align: right;\n",
       "    }\n",
       "</style>\n",
       "<table border=\"1\" class=\"dataframe\">\n",
       "  <thead>\n",
       "    <tr style=\"text-align: right;\">\n",
       "      <th></th>\n",
       "      <th>metro</th>\n",
       "      <th>price</th>\n",
       "      <th>rooms</th>\n",
       "      <th>floor</th>\n",
       "      <th>floors</th>\n",
       "      <th>square</th>\n",
       "      <th>turned</th>\n",
       "      <th>floor_per</th>\n",
       "      <th>price_for_square</th>\n",
       "    </tr>\n",
       "  </thead>\n",
       "  <tbody>\n",
       "    <tr>\n",
       "      <th>0</th>\n",
       "      <td>0</td>\n",
       "      <td>14629999</td>\n",
       "      <td>2</td>\n",
       "      <td>6</td>\n",
       "      <td>19</td>\n",
       "      <td>61.31</td>\n",
       "      <td>0</td>\n",
       "      <td>0.315789</td>\n",
       "      <td>238623.373022</td>\n",
       "    </tr>\n",
       "    <tr>\n",
       "      <th>1</th>\n",
       "      <td>0</td>\n",
       "      <td>9799999</td>\n",
       "      <td>1</td>\n",
       "      <td>2</td>\n",
       "      <td>19</td>\n",
       "      <td>39.35</td>\n",
       "      <td>0</td>\n",
       "      <td>0.105263</td>\n",
       "      <td>249046.988564</td>\n",
       "    </tr>\n",
       "    <tr>\n",
       "      <th>2</th>\n",
       "      <td>1</td>\n",
       "      <td>15441588</td>\n",
       "      <td>2</td>\n",
       "      <td>15</td>\n",
       "      <td>18</td>\n",
       "      <td>60.60</td>\n",
       "      <td>1</td>\n",
       "      <td>0.833333</td>\n",
       "      <td>254811.683168</td>\n",
       "    </tr>\n",
       "    <tr>\n",
       "      <th>3</th>\n",
       "      <td>1</td>\n",
       "      <td>9350000</td>\n",
       "      <td>1</td>\n",
       "      <td>2</td>\n",
       "      <td>18</td>\n",
       "      <td>37.40</td>\n",
       "      <td>1</td>\n",
       "      <td>0.111111</td>\n",
       "      <td>250000.000000</td>\n",
       "    </tr>\n",
       "    <tr>\n",
       "      <th>4</th>\n",
       "      <td>0</td>\n",
       "      <td>10239999</td>\n",
       "      <td>1</td>\n",
       "      <td>2</td>\n",
       "      <td>18</td>\n",
       "      <td>37.00</td>\n",
       "      <td>0</td>\n",
       "      <td>0.111111</td>\n",
       "      <td>276756.729730</td>\n",
       "    </tr>\n",
       "    <tr>\n",
       "      <th>...</th>\n",
       "      <td>...</td>\n",
       "      <td>...</td>\n",
       "      <td>...</td>\n",
       "      <td>...</td>\n",
       "      <td>...</td>\n",
       "      <td>...</td>\n",
       "      <td>...</td>\n",
       "      <td>...</td>\n",
       "      <td>...</td>\n",
       "    </tr>\n",
       "    <tr>\n",
       "      <th>7915</th>\n",
       "      <td>0</td>\n",
       "      <td>5859341</td>\n",
       "      <td>1</td>\n",
       "      <td>2</td>\n",
       "      <td>12</td>\n",
       "      <td>35.00</td>\n",
       "      <td>0</td>\n",
       "      <td>0.166667</td>\n",
       "      <td>167409.742857</td>\n",
       "    </tr>\n",
       "    <tr>\n",
       "      <th>7916</th>\n",
       "      <td>1</td>\n",
       "      <td>23324180</td>\n",
       "      <td>1</td>\n",
       "      <td>6</td>\n",
       "      <td>9</td>\n",
       "      <td>54.30</td>\n",
       "      <td>1</td>\n",
       "      <td>0.666667</td>\n",
       "      <td>429542.909761</td>\n",
       "    </tr>\n",
       "    <tr>\n",
       "      <th>7917</th>\n",
       "      <td>0</td>\n",
       "      <td>8779520</td>\n",
       "      <td>1</td>\n",
       "      <td>10</td>\n",
       "      <td>13</td>\n",
       "      <td>37.35</td>\n",
       "      <td>1</td>\n",
       "      <td>0.769231</td>\n",
       "      <td>235060.776439</td>\n",
       "    </tr>\n",
       "    <tr>\n",
       "      <th>7918</th>\n",
       "      <td>0</td>\n",
       "      <td>6449160</td>\n",
       "      <td>1</td>\n",
       "      <td>1</td>\n",
       "      <td>13</td>\n",
       "      <td>35.03</td>\n",
       "      <td>0</td>\n",
       "      <td>0.076923</td>\n",
       "      <td>184103.910933</td>\n",
       "    </tr>\n",
       "    <tr>\n",
       "      <th>7919</th>\n",
       "      <td>1</td>\n",
       "      <td>15156000</td>\n",
       "      <td>1</td>\n",
       "      <td>8</td>\n",
       "      <td>8</td>\n",
       "      <td>42.10</td>\n",
       "      <td>1</td>\n",
       "      <td>1.000000</td>\n",
       "      <td>360000.000000</td>\n",
       "    </tr>\n",
       "  </tbody>\n",
       "</table>\n",
       "<p>6770 rows × 9 columns</p>\n",
       "</div>"
      ],
      "text/plain": [
       "      metro     price  rooms  floor  floors  square  turned  floor_per  \\\n",
       "0         0  14629999      2      6      19   61.31       0   0.315789   \n",
       "1         0   9799999      1      2      19   39.35       0   0.105263   \n",
       "2         1  15441588      2     15      18   60.60       1   0.833333   \n",
       "3         1   9350000      1      2      18   37.40       1   0.111111   \n",
       "4         0  10239999      1      2      18   37.00       0   0.111111   \n",
       "...     ...       ...    ...    ...     ...     ...     ...        ...   \n",
       "7915      0   5859341      1      2      12   35.00       0   0.166667   \n",
       "7916      1  23324180      1      6       9   54.30       1   0.666667   \n",
       "7917      0   8779520      1     10      13   37.35       1   0.769231   \n",
       "7918      0   6449160      1      1      13   35.03       0   0.076923   \n",
       "7919      1  15156000      1      8       8   42.10       1   1.000000   \n",
       "\n",
       "      price_for_square  \n",
       "0        238623.373022  \n",
       "1        249046.988564  \n",
       "2        254811.683168  \n",
       "3        250000.000000  \n",
       "4        276756.729730  \n",
       "...                ...  \n",
       "7915     167409.742857  \n",
       "7916     429542.909761  \n",
       "7917     235060.776439  \n",
       "7918     184103.910933  \n",
       "7919     360000.000000  \n",
       "\n",
       "[6770 rows x 9 columns]"
      ]
     },
     "execution_count": 264,
     "metadata": {},
     "output_type": "execute_result"
    }
   ],
   "source": [
    "df"
   ]
  },
  {
   "cell_type": "code",
   "execution_count": 265,
   "id": "bdb5e8b4",
   "metadata": {},
   "outputs": [],
   "source": [
    "df['is_first_or_second_floor'] = df['floor'].apply(lambda x: 1 if x == 1 or x==2 else 0)"
   ]
  },
  {
   "cell_type": "code",
   "execution_count": 266,
   "id": "b922bd31",
   "metadata": {},
   "outputs": [
    {
     "data": {
      "text/html": [
       "<div>\n",
       "<style scoped>\n",
       "    .dataframe tbody tr th:only-of-type {\n",
       "        vertical-align: middle;\n",
       "    }\n",
       "\n",
       "    .dataframe tbody tr th {\n",
       "        vertical-align: top;\n",
       "    }\n",
       "\n",
       "    .dataframe thead th {\n",
       "        text-align: right;\n",
       "    }\n",
       "</style>\n",
       "<table border=\"1\" class=\"dataframe\">\n",
       "  <thead>\n",
       "    <tr style=\"text-align: right;\">\n",
       "      <th></th>\n",
       "      <th>is_first_or_second_floor</th>\n",
       "      <th>price_for_square</th>\n",
       "    </tr>\n",
       "  </thead>\n",
       "  <tbody>\n",
       "    <tr>\n",
       "      <th>0</th>\n",
       "      <td>0</td>\n",
       "      <td>308086.151408</td>\n",
       "    </tr>\n",
       "    <tr>\n",
       "      <th>1</th>\n",
       "      <td>1</td>\n",
       "      <td>243915.664692</td>\n",
       "    </tr>\n",
       "  </tbody>\n",
       "</table>\n",
       "</div>"
      ],
      "text/plain": [
       "   is_first_or_second_floor  price_for_square\n",
       "0                         0     308086.151408\n",
       "1                         1     243915.664692"
      ]
     },
     "execution_count": 266,
     "metadata": {},
     "output_type": "execute_result"
    }
   ],
   "source": [
    "df.groupby('is_first_or_second_floor', as_index=0).price_for_square.mean()"
   ]
  },
  {
   "cell_type": "code",
   "execution_count": 267,
   "id": "065a0242",
   "metadata": {},
   "outputs": [
    {
     "data": {
      "text/plain": [
       "<AxesSubplot: xlabel='is_first_or_second_floor', ylabel='price_for_square'>"
      ]
     },
     "execution_count": 267,
     "metadata": {},
     "output_type": "execute_result"
    },
    {
     "data": {
      "image/png": "[encoded data removed]",
      "text/plain": [
       "<Figure size 640x480 with 1 Axes>"
      ]
     },
     "metadata": {},
     "output_type": "display_data"
    }
   ],
   "source": [
    "sns.boxplot(data=df, x='is_first_or_second_floor', y='price_for_square')"
   ]
  },
  {
   "cell_type": "code",
   "execution_count": 268,
   "id": "c7b130d3",
   "metadata": {},
   "outputs": [],
   "source": [
    "df_1 = df[df['is_first_or_second_floor'] == 1]\n",
    "df_0 = df[df['is_first_or_second_floor'] == 0]"
   ]
  },
  {
   "cell_type": "code",
   "execution_count": 269,
   "id": "930cfbef",
   "metadata": {},
   "outputs": [
    {
     "data": {
      "image/png": "[encoded data removed]",
      "text/plain": [
       "<Figure size 640x480 with 1 Axes>"
      ]
     },
     "metadata": {},
     "output_type": "display_data"
    },
    {
     "data": {
      "text/plain": [
       "3.778587048996213e-232"
      ]
     },
     "execution_count": 269,
     "metadata": {},
     "output_type": "execute_result"
    }
   ],
   "source": [
    "get_bootstrap(df_1['price_for_square'], df_0['price_for_square'])"
   ]
  },
  {
   "cell_type": "markdown",
   "id": "7ae5a7ef",
   "metadata": {},
   "source": [
    "Стоимость квадратного метра первых 2-х этажей ниже"
   ]
  },
  {
   "cell_type": "code",
   "execution_count": null,
   "id": "b60d9849",
   "metadata": {},
   "outputs": [],
   "source": []
  },
  {
   "cell_type": "code",
   "execution_count": 270,
   "id": "0ca96c6c",
   "metadata": {},
   "outputs": [],
   "source": [
    "from sklearn import metrics\n",
    "from scipy import stats\n",
    "import numpy as np\n",
    "from sklearn.linear_model import LogisticRegression\n",
    "from sklearn.tree import DecisionTreeRegressor\n",
    "from sklearn.ensemble import RandomForestRegressor\n",
    "from sklearn.metrics import mean_absolute_error, mean_squared_error, r2_score\n",
    "from sklearn.model_selection import train_test_split, cross_val_score"
   ]
  },
  {
   "cell_type": "code",
   "execution_count": 271,
   "id": "911de92e",
   "metadata": {},
   "outputs": [
    {
     "data": {
      "text/html": [
       "<div>\n",
       "<style scoped>\n",
       "    .dataframe tbody tr th:only-of-type {\n",
       "        vertical-align: middle;\n",
       "    }\n",
       "\n",
       "    .dataframe tbody tr th {\n",
       "        vertical-align: top;\n",
       "    }\n",
       "\n",
       "    .dataframe thead th {\n",
       "        text-align: right;\n",
       "    }\n",
       "</style>\n",
       "<table border=\"1\" class=\"dataframe\">\n",
       "  <thead>\n",
       "    <tr style=\"text-align: right;\">\n",
       "      <th></th>\n",
       "      <th>metro</th>\n",
       "      <th>price</th>\n",
       "      <th>rooms</th>\n",
       "      <th>floor</th>\n",
       "      <th>floors</th>\n",
       "      <th>square</th>\n",
       "      <th>turned</th>\n",
       "      <th>floor_per</th>\n",
       "      <th>price_for_square</th>\n",
       "      <th>is_first_or_second_floor</th>\n",
       "    </tr>\n",
       "  </thead>\n",
       "  <tbody>\n",
       "    <tr>\n",
       "      <th>0</th>\n",
       "      <td>0</td>\n",
       "      <td>14629999</td>\n",
       "      <td>2</td>\n",
       "      <td>6</td>\n",
       "      <td>19</td>\n",
       "      <td>61.31</td>\n",
       "      <td>0</td>\n",
       "      <td>0.315789</td>\n",
       "      <td>238623.373022</td>\n",
       "      <td>0</td>\n",
       "    </tr>\n",
       "  </tbody>\n",
       "</table>\n",
       "</div>"
      ],
      "text/plain": [
       "   metro     price  rooms  floor  floors  square  turned  floor_per  \\\n",
       "0      0  14629999      2      6      19   61.31       0   0.315789   \n",
       "\n",
       "   price_for_square  is_first_or_second_floor  \n",
       "0     238623.373022                         0  "
      ]
     },
     "execution_count": 271,
     "metadata": {},
     "output_type": "execute_result"
    }
   ],
   "source": [
    "df.head(1)"
   ]
  },
  {
   "cell_type": "code",
   "execution_count": 272,
   "id": "a4439b3d",
   "metadata": {},
   "outputs": [],
   "source": [
    "X = df[['metro', 'rooms', 'is_first_or_second_floor', 'square', 'floors']]\n",
    "y = df['price']"
   ]
  },
  {
   "cell_type": "code",
   "execution_count": 273,
   "id": "811c2f77",
   "metadata": {},
   "outputs": [
    {
     "data": {
      "text/plain": [
       "<AxesSubplot: >"
      ]
     },
     "execution_count": 273,
     "metadata": {},
     "output_type": "execute_result"
    },
    {
     "data": {
      "image/png": "[encoded data removed]",
      "text/plain": [
       "<Figure size 640x480 with 2 Axes>"
      ]
     },
     "metadata": {},
     "output_type": "display_data"
    }
   ],
   "source": [
    "sns.heatmap(X.corr())"
   ]
  },
  {
   "cell_type": "code",
   "execution_count": 274,
   "id": "a797c6cc",
   "metadata": {},
   "outputs": [],
   "source": [
    "X = df[['metro', 'rooms', 'is_first_or_second_floor', 'square']]\n",
    "y = df['price']"
   ]
  },
  {
   "cell_type": "code",
   "execution_count": 275,
   "id": "891414f6",
   "metadata": {},
   "outputs": [
    {
     "data": {
      "text/plain": [
       "<AxesSubplot: >"
      ]
     },
     "execution_count": 275,
     "metadata": {},
     "output_type": "execute_result"
    },
    {
     "data": {
      "image/png": "[encoded data removed]",
      "text/plain": [
       "<Figure size 640x480 with 2 Axes>"
      ]
     },
     "metadata": {},
     "output_type": "display_data"
    }
   ],
   "source": [
    "sns.heatmap(X.corr())"
   ]
  },
  {
   "cell_type": "code",
   "execution_count": 276,
   "id": "c808d184",
   "metadata": {},
   "outputs": [],
   "source": [
    "X = df[['metro', 'is_first_or_second_floor', 'square']]\n",
    "y = df['price']"
   ]
  },
  {
   "cell_type": "code",
   "execution_count": 277,
   "id": "5ef7b71f",
   "metadata": {},
   "outputs": [],
   "source": [
    "X_train, X_test, y_train, y_test = train_test_split(X, y, train_size=0.7, random_state=42) "
   ]
  },
  {
   "cell_type": "code",
   "execution_count": 278,
   "id": "898c9e5a",
   "metadata": {},
   "outputs": [
    {
     "data": {
      "text/plain": [
       "<AxesSubplot: >"
      ]
     },
     "execution_count": 278,
     "metadata": {},
     "output_type": "execute_result"
    },
    {
     "data": {
      "image/png": "[encoded data removed]",
      "text/plain": [
       "<Figure size 640x480 with 2 Axes>"
      ]
     },
     "metadata": {},
     "output_type": "display_data"
    }
   ],
   "source": [
    "sns.heatmap(X.corr())"
   ]
  },
  {
   "cell_type": "code",
   "execution_count": 279,
   "id": "1f611892",
   "metadata": {},
   "outputs": [],
   "source": [
    "logreg = LogisticRegression()\n",
    "dectrreg = DecisionTreeRegressor()\n",
    "randfreg = RandomForestRegressor()"
   ]
  },
  {
   "cell_type": "code",
   "execution_count": 280,
   "id": "70462f58",
   "metadata": {},
   "outputs": [
    {
     "name": "stdout",
     "output_type": "stream",
     "text": [
      "r2:  [0.72671016 0.7321032  0.63630391 0.60899283 0.5567388 ]\n",
      "mae:  [-1706793.66322009 -1695953.47932053 -2072445.85450517 -1952611.3042836\n",
      " -2212113.51329394]\n",
      "mae:  [-7.15788767e+12 -7.03786976e+12 -9.53146002e+12 -1.03327324e+13\n",
      " -1.16940794e+13]\n"
     ]
    }
   ],
   "source": [
    "logreg.fit(X_train, y_train)\n",
    "print('r2: ',cross_val_score(logreg, X, y, cv=5, scoring='r2'))\n",
    "print('mae: ',cross_val_score(logreg, X, y, cv=5, scoring='neg_mean_absolute_error'))\n",
    "print('mae: ',cross_val_score(logreg, X, y, cv=5, scoring='neg_mean_squared_error'))"
   ]
  },
  {
   "cell_type": "code",
   "execution_count": 281,
   "id": "6377d2b7",
   "metadata": {},
   "outputs": [
    {
     "data": {
      "text/plain": [
       "0.3599212210733629"
      ]
     },
     "execution_count": 281,
     "metadata": {},
     "output_type": "execute_result"
    }
   ],
   "source": [
    "logreg.score(X_test, y_test)"
   ]
  },
  {
   "cell_type": "code",
   "execution_count": 282,
   "id": "062d66df",
   "metadata": {},
   "outputs": [
    {
     "name": "stdout",
     "output_type": "stream",
     "text": [
      "r2:  [0.88437716 0.99999942 0.99999967 0.99983613 0.99999959]\n",
      "mae:  [-6.44123903e+05 -5.36357748e+02 -4.10984945e+02 -2.31489311e+03\n",
      " -4.56212225e+02]\n",
      "mae:  [-3.02169681e+12 -1.52557588e+07 -8.78104190e+06 -4.28093829e+09\n",
      " -1.07218198e+07]\n"
     ]
    }
   ],
   "source": [
    "dectrreg.fit(X_train, y_train)\n",
    "print('r2: ',cross_val_score(dectrreg, X, y, cv=5, scoring='r2'))\n",
    "print('mae: ',cross_val_score(dectrreg, X, y, cv=5, scoring='neg_mean_absolute_error'))\n",
    "print('mae: ',cross_val_score(dectrreg, X, y, cv=5, scoring='neg_mean_squared_error'))"
   ]
  },
  {
   "cell_type": "code",
   "execution_count": 283,
   "id": "1ded7eb6",
   "metadata": {},
   "outputs": [
    {
     "data": {
      "text/plain": [
       "0.9865428715212297"
      ]
     },
     "execution_count": 283,
     "metadata": {},
     "output_type": "execute_result"
    }
   ],
   "source": [
    "dectrreg.score(X_test, y_test)"
   ]
  },
  {
   "cell_type": "code",
   "execution_count": 284,
   "id": "a43f991c",
   "metadata": {},
   "outputs": [
    {
     "name": "stdout",
     "output_type": "stream",
     "text": [
      "r2:  [0.885098   0.99999947 0.99999964 0.99992349 0.99999947]\n",
      "mae:  [-6.41398908e+05 -4.99177624e+02 -3.64092955e+02 -2.09517949e+03\n",
      " -4.35391664e+02]\n",
      "mae:  [-3.01492932e+12 -1.23973696e+07 -7.68133008e+06 -2.47826178e+09\n",
      " -8.35927894e+06]\n"
     ]
    }
   ],
   "source": [
    "randfreg.fit(X_train, y_train)\n",
    "print('r2: ',cross_val_score(randfreg, X, y, cv=5, scoring='r2'))\n",
    "print('mae: ',cross_val_score(randfreg, X, y, cv=5, scoring='neg_mean_absolute_error'))\n",
    "print('mae: ',cross_val_score(randfreg, X, y, cv=5, scoring='neg_mean_squared_error'))"
   ]
  },
  {
   "cell_type": "code",
   "execution_count": 285,
   "id": "e9f52505",
   "metadata": {},
   "outputs": [
    {
     "data": {
      "text/plain": [
       "0.9895943477701786"
      ]
     },
     "execution_count": 285,
     "metadata": {},
     "output_type": "execute_result"
    }
   ],
   "source": [
    "randfreg.score(X_test, y_test)"
   ]
  },
  {
   "cell_type": "code",
   "execution_count": 286,
   "id": "9232b94b",
   "metadata": {},
   "outputs": [],
   "source": [
    "from sklearn.model_selection import RandomizedSearchCV"
   ]
  },
  {
   "cell_type": "code",
   "execution_count": 287,
   "id": "0bc81bcf",
   "metadata": {},
   "outputs": [
    {
     "data": {
      "text/html": [
       "<div>\n",
       "<style scoped>\n",
       "    .dataframe tbody tr th:only-of-type {\n",
       "        vertical-align: middle;\n",
       "    }\n",
       "\n",
       "    .dataframe tbody tr th {\n",
       "        vertical-align: top;\n",
       "    }\n",
       "\n",
       "    .dataframe thead th {\n",
       "        text-align: right;\n",
       "    }\n",
       "</style>\n",
       "<table border=\"1\" class=\"dataframe\">\n",
       "  <thead>\n",
       "    <tr style=\"text-align: right;\">\n",
       "      <th></th>\n",
       "      <th>metro</th>\n",
       "      <th>is_first_or_second_floor</th>\n",
       "      <th>square</th>\n",
       "    </tr>\n",
       "  </thead>\n",
       "  <tbody>\n",
       "    <tr>\n",
       "      <th>0</th>\n",
       "      <td>0</td>\n",
       "      <td>0</td>\n",
       "      <td>61.31</td>\n",
       "    </tr>\n",
       "    <tr>\n",
       "      <th>1</th>\n",
       "      <td>0</td>\n",
       "      <td>1</td>\n",
       "      <td>39.35</td>\n",
       "    </tr>\n",
       "    <tr>\n",
       "      <th>2</th>\n",
       "      <td>1</td>\n",
       "      <td>0</td>\n",
       "      <td>60.60</td>\n",
       "    </tr>\n",
       "    <tr>\n",
       "      <th>3</th>\n",
       "      <td>1</td>\n",
       "      <td>1</td>\n",
       "      <td>37.40</td>\n",
       "    </tr>\n",
       "    <tr>\n",
       "      <th>4</th>\n",
       "      <td>0</td>\n",
       "      <td>1</td>\n",
       "      <td>37.00</td>\n",
       "    </tr>\n",
       "    <tr>\n",
       "      <th>...</th>\n",
       "      <td>...</td>\n",
       "      <td>...</td>\n",
       "      <td>...</td>\n",
       "    </tr>\n",
       "    <tr>\n",
       "      <th>7915</th>\n",
       "      <td>0</td>\n",
       "      <td>1</td>\n",
       "      <td>35.00</td>\n",
       "    </tr>\n",
       "    <tr>\n",
       "      <th>7916</th>\n",
       "      <td>1</td>\n",
       "      <td>0</td>\n",
       "      <td>54.30</td>\n",
       "    </tr>\n",
       "    <tr>\n",
       "      <th>7917</th>\n",
       "      <td>0</td>\n",
       "      <td>0</td>\n",
       "      <td>37.35</td>\n",
       "    </tr>\n",
       "    <tr>\n",
       "      <th>7918</th>\n",
       "      <td>0</td>\n",
       "      <td>1</td>\n",
       "      <td>35.03</td>\n",
       "    </tr>\n",
       "    <tr>\n",
       "      <th>7919</th>\n",
       "      <td>1</td>\n",
       "      <td>0</td>\n",
       "      <td>42.10</td>\n",
       "    </tr>\n",
       "  </tbody>\n",
       "</table>\n",
       "<p>6770 rows × 3 columns</p>\n",
       "</div>"
      ],
      "text/plain": [
       "      metro  is_first_or_second_floor  square\n",
       "0         0                         0   61.31\n",
       "1         0                         1   39.35\n",
       "2         1                         0   60.60\n",
       "3         1                         1   37.40\n",
       "4         0                         1   37.00\n",
       "...     ...                       ...     ...\n",
       "7915      0                         1   35.00\n",
       "7916      1                         0   54.30\n",
       "7917      0                         0   37.35\n",
       "7918      0                         1   35.03\n",
       "7919      1                         0   42.10\n",
       "\n",
       "[6770 rows x 3 columns]"
      ]
     },
     "execution_count": 287,
     "metadata": {},
     "output_type": "execute_result"
    }
   ],
   "source": [
    "X"
   ]
  },
  {
   "cell_type": "code",
   "execution_count": 288,
   "id": "497a708d",
   "metadata": {},
   "outputs": [
    {
     "name": "stdout",
     "output_type": "stream",
     "text": [
      "Fitting 3 folds for each of 50 candidates, totalling 150 fits\n"
     ]
    },
    {
     "data": {
      "text/plain": [
       "{'min_samples_split': 10,\n",
       " 'min_samples_leaf': 20,\n",
       " 'max_leaf_nodes': 100,\n",
       " 'max_depth': 8}"
      ]
     },
     "execution_count": 288,
     "metadata": {},
     "output_type": "execute_result"
    }
   ],
   "source": [
    "dectrreg = DecisionTreeRegressor()\n",
    "parameters_dectrreg = {\n",
    "              \"min_samples_split\": [10, 20, 30, 40],\n",
    "              \"max_depth\": [2, 4, 6, 8, 10],\n",
    "              \"min_samples_leaf\": [20, 40, 50, 100],\n",
    "              \"max_leaf_nodes\": [5, 20, 50, 100],\n",
    "              }\n",
    "rs = RandomizedSearchCV(dectrreg, \n",
    "                        parameters_dectrreg, \n",
    "                        n_iter = 50, \n",
    "                        cv = 3, \n",
    "                        verbose = 1, \n",
    "                        n_jobs=-1, \n",
    "                        random_state=0)\n",
    "rs.fit(X_train, y_train)\n",
    "dectrreg_2 = rs.best_estimator_\n",
    "rs.best_params_"
   ]
  },
  {
   "cell_type": "code",
   "execution_count": 289,
   "id": "a17cb027",
   "metadata": {},
   "outputs": [
    {
     "data": {
      "text/plain": [
       "0.9810854637768409"
      ]
     },
     "execution_count": 289,
     "metadata": {},
     "output_type": "execute_result"
    }
   ],
   "source": [
    "dectrreg_2.score(X_test, y_test)"
   ]
  },
  {
   "cell_type": "code",
   "execution_count": 290,
   "id": "57ebbe5f",
   "metadata": {},
   "outputs": [
    {
     "name": "stdout",
     "output_type": "stream",
     "text": [
      "r2:  [0.88113792 0.99869857 0.99880703 0.99859067 0.99880956]\n",
      "mae:  [-653423.41376314  -84313.33857538  -79231.86431725  -83901.74147835\n",
      "  -79614.18870237]\n",
      "mae:  [-3.10635126e+12 -3.41899193e+10 -3.13292420e+10 -3.68185149e+10\n",
      " -3.11791408e+10]\n"
     ]
    }
   ],
   "source": [
    "print('r2: ',cross_val_score(dectrreg_2, X, y, cv=5, scoring='r2'))\n",
    "print('mae: ',cross_val_score(dectrreg_2, X, y, cv=5, scoring='neg_mean_absolute_error'))\n",
    "print('mae: ',cross_val_score(dectrreg_2, X, y, cv=5, scoring='neg_mean_squared_error'))"
   ]
  },
  {
   "cell_type": "code",
   "execution_count": 291,
   "id": "3611b5d5",
   "metadata": {},
   "outputs": [
    {
     "name": "stdout",
     "output_type": "stream",
     "text": [
      "Fitting 3 folds for each of 50 candidates, totalling 150 fits\n"
     ]
    },
    {
     "data": {
      "text/plain": [
       "{'n_estimators': 1600,\n",
       " 'min_samples_split': 5,\n",
       " 'min_samples_leaf': 1,\n",
       " 'max_depth': 10,\n",
       " 'bootstrap': True}"
      ]
     },
     "execution_count": 291,
     "metadata": {},
     "output_type": "execute_result"
    }
   ],
   "source": [
    "randfreg = RandomForestRegressor()\n",
    "parameters_randfreg = {'bootstrap': [True, False],\n",
    " 'max_depth': [10, 20, 30, 40, 50, 60, 70, 80, 90, 100, None],\n",
    " 'min_samples_leaf': [1, 2, 4],\n",
    " 'min_samples_split': [2, 5, 10],\n",
    " 'n_estimators': [200, 400, 600, 800, 1000, 1200, 1400, 1600, 1800, 2000]}\n",
    "rs = RandomizedSearchCV(randfreg, \n",
    "                        parameters_randfreg, \n",
    "                        n_iter = 50, \n",
    "                        cv = 3, \n",
    "                        verbose = 1, \n",
    "                        n_jobs=-1, \n",
    "                        random_state=0)\n",
    "rs.fit(X_train, y_train)\n",
    "randfreg_2 = rs.best_estimator_\n",
    "rs.best_params_"
   ]
  },
  {
   "cell_type": "code",
   "execution_count": 292,
   "id": "c7f0ef64",
   "metadata": {},
   "outputs": [
    {
     "data": {
      "text/plain": [
       "0.9896303743981283"
      ]
     },
     "execution_count": 292,
     "metadata": {},
     "output_type": "execute_result"
    }
   ],
   "source": [
    "randfreg_2.score(X_test, y_test)"
   ]
  },
  {
   "cell_type": "code",
   "execution_count": 293,
   "id": "9c3a95d1",
   "metadata": {},
   "outputs": [
    {
     "name": "stdout",
     "output_type": "stream",
     "text": [
      "r2:  [0.88502092 0.99999773 0.99999877 0.99998096 0.99999842]\n",
      "mae:  [-643165.6373389    -1383.55528098   -1120.21051319   -2051.52361725\n",
      "   -1135.46604021]\n",
      "mae:  [-3.00943895e+12 -5.95327681e+07 -3.11557487e+07 -4.41365477e+08\n",
      " -3.86741933e+07]\n"
     ]
    }
   ],
   "source": [
    "print('r2: ',cross_val_score(randfreg_2, X, y, cv=5, scoring='r2'))\n",
    "print('mae: ',cross_val_score(randfreg_2, X, y, cv=5, scoring='neg_mean_absolute_error'))\n",
    "print('mae: ',cross_val_score(randfreg_2, X, y, cv=5, scoring='neg_mean_squared_error'))"
   ]
  },
  {
   "cell_type": "code",
   "execution_count": null,
   "id": "ff1511ae",
   "metadata": {},
   "outputs": [],
   "source": []
  },
  {
   "cell_type": "code",
   "execution_count": null,
   "id": "f4a03d8e",
   "metadata": {},
   "outputs": [],
   "source": []
  }
 ],
 "metadata": {
  "kernelspec": {
   "display_name": "Python 3 (ipykernel)",
   "language": "python",
   "name": "python3"
  },
  "language_info": {
   "codemirror_mode": {
    "name": "ipython",
    "version": 3
   },
   "file_extension": ".py",
   "mimetype": "text/x-python",
   "name": "python",
   "nbconvert_exporter": "python",
   "pygments_lexer": "ipython3",
   "version": "3.9.6"
  }
 },
 "nbformat": 4,
 "nbformat_minor": 5
}
